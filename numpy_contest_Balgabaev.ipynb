{
  "nbformat": 4,
  "nbformat_minor": 0,
  "metadata": {
    "kernelspec": {
      "display_name": "Python 3",
      "language": "python",
      "name": "python3"
    },
    "language_info": {
      "codemirror_mode": {
        "name": "ipython",
        "version": 3
      },
      "file_extension": ".py",
      "mimetype": "text/x-python",
      "name": "python",
      "nbconvert_exporter": "python",
      "pygments_lexer": "ipython3",
      "version": "3.7.4"
    },
    "colab": {
      "name": "2Numpy.ipynb",
      "provenance": [],
      "collapsed_sections": []
    }
  },
  "cells": [
    {
      "cell_type": "markdown",
      "metadata": {
        "id": "URILVg4kftiO"
      },
      "source": [
        "# `NumPy`: матрицы и операции над ними\n",
        "---"
      ]
    },
    {
      "cell_type": "markdown",
      "metadata": {
        "id": "K0urA_pcftiQ"
      },
      "source": [
        "В этом ноутбуке из сторонних библиотек нам понадобится только `NumPy`. Для удобства импортируем ее под более коротким именем:"
      ]
    },
    {
      "cell_type": "code",
      "metadata": {
        "id": "BrAPt28oftiR"
      },
      "source": [
        "import numpy as np"
      ],
      "execution_count": null,
      "outputs": []
    },
    {
      "cell_type": "markdown",
      "metadata": {
        "id": "CWLf6CWIftiS"
      },
      "source": [
        "## 1. Создание матриц"
      ]
    },
    {
      "cell_type": "markdown",
      "metadata": {
        "id": "433VNvpWftiS"
      },
      "source": [
        "Приведем несколько способов создания матриц в `NumPy`."
      ]
    },
    {
      "cell_type": "markdown",
      "metadata": {
        "id": "xhGM-QLmftiT"
      },
      "source": [
        "Самый простой способ — с помощью функции __`numpy.array(list, dtype=None, ...)`__.\n",
        "\n",
        "В качестве первого аргумента ей надо передать итерируемый объект, элементами которого являются другие итерируемые объекты одинаковой длины и содержащие данные одинакового типа.\n",
        "\n",
        "Второй аргумент является опциональным и определяет тип данных матрицы. Его можно не задавать, тогда тип данных будет определен из типа элементов первого аргумента. При задании этого параметра будет произведена попытка приведения типов.\n",
        "\n",
        "Например, матрицу из списка списков целых чисел можно создать следующим образом:"
      ]
    },
    {
      "cell_type": "code",
      "metadata": {
        "colab": {
          "base_uri": "https://localhost:8080/"
        },
        "id": "GzyXAdCDftiT",
        "outputId": "4b4dfd99-111e-49a4-e7ee-1b773be717aa"
      },
      "source": [
        "a = np.array([1, 2, 3])   # Создаем одномерный массив\n",
        "print(type(a))            # Prints \"<class 'numpy.ndarray'>\"\n",
        "print(a.shape)            # Prints \"(3,)\" - кортеж с размерностями\n",
        "print(a[0], a[1], a[2])   # Prints \"1 2 3\"\n",
        "a[0] = 5                  # Изменяем значение элемента массива\n",
        "print(a)                  # Prints \"[5, 2, 3]\"\n",
        "\n",
        "b = np.array([[1,2,3],[4,5,6]])    # Создаем двухмерный массив\n",
        "print(b.shape)                     # Prints \"(2, 3)\"\n",
        "print(b[0, 0], b[0, 1], b[1, 0])   # Prints \"1 2 4\"\n",
        "print(np.arange(1, 5)) #Cоздает вектор с эелементами от 1 до 4"
      ],
      "execution_count": null,
      "outputs": [
        {
          "output_type": "stream",
          "name": "stdout",
          "text": [
            "<class 'numpy.ndarray'>\n",
            "(3,)\n",
            "1 2 3\n",
            "[5 2 3]\n",
            "(2, 3)\n",
            "1 2 4\n",
            "[1 2 3 4]\n"
          ]
        }
      ]
    },
    {
      "cell_type": "code",
      "metadata": {
        "colab": {
          "base_uri": "https://localhost:8080/"
        },
        "id": "qePNEOYNftiV",
        "outputId": "8090e376-a9a3-452d-ace8-3655a633ee5b"
      },
      "source": [
        "matrix = np.array([[1, 2, 3], [2, 5, 6], [6, 7, 4]])\n",
        "print (\"Матрица:\\n\", matrix)"
      ],
      "execution_count": null,
      "outputs": [
        {
          "output_type": "stream",
          "name": "stdout",
          "text": [
            "Матрица:\n",
            " [[1 2 3]\n",
            " [2 5 6]\n",
            " [6 7 4]]\n"
          ]
        }
      ]
    },
    {
      "cell_type": "markdown",
      "metadata": {
        "id": "m6pVEE09ftiV"
      },
      "source": [
        "Второй способ создания — с помощью встроенных функций __`numpy.eye(N, M=None, ...)`__, __`numpy.zeros(shape, ...)`__, __`numpy.ones(shape, ...)`__.\n",
        "\n",
        "Первая функция создает единичную матрицу размера $N \\times M$; если $M$ не задан, то $M = N$. \n",
        "\n",
        "Вторая и третья функции создают матрицы, состоящие целиком из нулей или единиц соответственно. В качестве первого аргумента необходимо задать размерность массива — кортеж целых чисел. В двумерном случае это набор из двух чисел: количество строк и столбцов матрицы.\n",
        "\n",
        "__Примеры:__"
      ]
    },
    {
      "cell_type": "code",
      "metadata": {
        "colab": {
          "base_uri": "https://localhost:8080/"
        },
        "id": "-EkeVzSVftiV",
        "outputId": "6ee09273-f739-453a-e22f-87186ad541a1"
      },
      "source": [
        "b = np.eye(5)\n",
        "print (\"Единичная матрица:\\n\", b)"
      ],
      "execution_count": null,
      "outputs": [
        {
          "output_type": "stream",
          "name": "stdout",
          "text": [
            "Единичная матрица:\n",
            " [[1. 0. 0. 0. 0.]\n",
            " [0. 1. 0. 0. 0.]\n",
            " [0. 0. 1. 0. 0.]\n",
            " [0. 0. 0. 1. 0.]\n",
            " [0. 0. 0. 0. 1.]]\n"
          ]
        }
      ]
    },
    {
      "cell_type": "code",
      "metadata": {
        "colab": {
          "base_uri": "https://localhost:8080/"
        },
        "id": "BS0VXenEftiW",
        "outputId": "35548839-d3af-4971-a84a-be4ac680469d"
      },
      "source": [
        "c = np.ones((7, 5))\n",
        "print (\"Матрица, состоящая из одних единиц:\\n\", c)"
      ],
      "execution_count": null,
      "outputs": [
        {
          "output_type": "stream",
          "name": "stdout",
          "text": [
            "Матрица, состоящая из одних единиц:\n",
            " [[1. 1. 1. 1. 1.]\n",
            " [1. 1. 1. 1. 1.]\n",
            " [1. 1. 1. 1. 1.]\n",
            " [1. 1. 1. 1. 1.]\n",
            " [1. 1. 1. 1. 1.]\n",
            " [1. 1. 1. 1. 1.]\n",
            " [1. 1. 1. 1. 1.]]\n"
          ]
        }
      ]
    },
    {
      "cell_type": "code",
      "metadata": {
        "colab": {
          "base_uri": "https://localhost:8080/"
        },
        "id": "5k0sT5PNftiW",
        "outputId": "cfc46a3c-3517-4664-bef7-113262bab6f4"
      },
      "source": [
        "d = np.full((2,2), 7)  # Создает матрицу (1, 2) заполненую заданным значением\n",
        "print(d)               # Prints \"[[ 7.  7.]\n",
        "                       #          [ 7.  7.]]\"\n",
        "\n",
        "e = np.random.random((2,2))  # Создает еденичную матрицу (2, 2) заполненую случаными числами (0, 1)\n",
        "print(e)                     # Might print \"[[ 0.91940167  0.08143941]\n",
        "                             #               [ 0.68744134  0.87236687]]\""
      ],
      "execution_count": null,
      "outputs": [
        {
          "output_type": "stream",
          "name": "stdout",
          "text": [
            "[[7 7]\n",
            " [7 7]]\n",
            "[[0.5780352  0.12261922]\n",
            " [0.03045735 0.17938893]]\n"
          ]
        }
      ]
    },
    {
      "cell_type": "markdown",
      "metadata": {
        "id": "P92XtkfyftiX"
      },
      "source": [
        "__Обратите внимание: размерность массива задается не двумя аргументами функции, а одним — кортежем!__ \n",
        "\n",
        "Вот так —  __`np.ones(7, 5)`__ — создать массив не получится, так как функции в качестве параметра `shape` передается `7`, а не кортеж `(7, 5)`."
      ]
    },
    {
      "cell_type": "markdown",
      "metadata": {
        "id": "0MFXq3UqftiX"
      },
      "source": [
        "И, наконец, третий способ — с помощью функции __`numpy.arange([start, ]stop, [step, ], ...)`__, которая создает одномерный массив последовательных чисел из промежутка __`[start, stop)`__ с заданным шагом __`step`__, и _метода_ __`array.reshape(shape)`__. \n",
        "\n",
        "Параметр __`shape`__, как и в предыдущем примере, задает размерность матрицы (кортеж чисел). Логика работы метода ясна из следующего примера:"
      ]
    },
    {
      "cell_type": "code",
      "metadata": {
        "colab": {
          "base_uri": "https://localhost:8080/"
        },
        "id": "LcNj_LO1ftiX",
        "outputId": "18c7a46e-a761-47cf-cf41-e7b7d510f8a2"
      },
      "source": [
        "v = np.arange(0, 24, 2)\n",
        "print (\"Вектор-столбец:\\n\", v)"
      ],
      "execution_count": null,
      "outputs": [
        {
          "output_type": "stream",
          "name": "stdout",
          "text": [
            "Вектор-столбец:\n",
            " [ 0  2  4  6  8 10 12 14 16 18 20 22]\n"
          ]
        }
      ]
    },
    {
      "cell_type": "code",
      "metadata": {
        "colab": {
          "base_uri": "https://localhost:8080/"
        },
        "id": "5q7KwkCmftiX",
        "outputId": "f082d2c3-4d7a-435f-ee00-3cf72a006bd0"
      },
      "source": [
        "d = v.reshape((3, 4))\n",
        "print (\"Матрица:\\n\", d)"
      ],
      "execution_count": null,
      "outputs": [
        {
          "output_type": "stream",
          "name": "stdout",
          "text": [
            "Матрица:\n",
            " [[ 0  2  4  6]\n",
            " [ 8 10 12 14]\n",
            " [16 18 20 22]]\n"
          ]
        }
      ]
    },
    {
      "cell_type": "markdown",
      "metadata": {
        "id": "XCoD2FECftiY"
      },
      "source": [
        "Более подробно о том, как создавать массивы в `NumPy`, \n",
        "см. [документацию](http://docs.scipy.org/doc/numpy-1.10.1/user/basics.creation.html)."
      ]
    },
    {
      "cell_type": "markdown",
      "metadata": {
        "id": "J-DpangUftiY"
      },
      "source": [
        "## 2. Индексирование "
      ]
    },
    {
      "cell_type": "markdown",
      "metadata": {
        "id": "kTqIIAm3ftiY"
      },
      "source": [
        "Для получения элементов матрицы можно использовать несколько способов. Рассмотрим самые простые из них."
      ]
    },
    {
      "cell_type": "markdown",
      "metadata": {
        "id": "edox8oNYftiZ"
      },
      "source": [
        "Для удобства напомним, как выглядит матрица __d__:"
      ]
    },
    {
      "cell_type": "code",
      "metadata": {
        "colab": {
          "base_uri": "https://localhost:8080/"
        },
        "id": "ZopqdJmIftiZ",
        "outputId": "3eace317-3a43-494b-d8cb-acf20b74c2b7"
      },
      "source": [
        "print (\"Матрица:\\n\", d)"
      ],
      "execution_count": null,
      "outputs": [
        {
          "output_type": "stream",
          "name": "stdout",
          "text": [
            "Матрица:\n",
            " [[ 0  2  4  6]\n",
            " [ 8 10 12 14]\n",
            " [16 18 20 22]]\n"
          ]
        }
      ]
    },
    {
      "cell_type": "markdown",
      "metadata": {
        "id": "dCk_MWCAftiZ"
      },
      "source": [
        "Элемент на пересечении строки __`i`__ и столбца __`j`__ можно получить с помощью выражения __`array[i, j]`__. \n",
        "\n",
        "__Обратите внимание:__ строки и столбцы нумеруются с нуля!"
      ]
    },
    {
      "cell_type": "code",
      "metadata": {
        "colab": {
          "base_uri": "https://localhost:8080/"
        },
        "id": "ltbLX-17ftiZ",
        "outputId": "bbd810a7-492a-45de-e672-2e212e239c8d"
      },
      "source": [
        "print (\"Второй элемент третьей строки матрицы:\", d[2, 1])"
      ],
      "execution_count": null,
      "outputs": [
        {
          "output_type": "stream",
          "name": "stdout",
          "text": [
            "Второй элемент третьей строки матрицы: 18\n"
          ]
        }
      ]
    },
    {
      "cell_type": "markdown",
      "metadata": {
        "id": "c2FJQQFlftia"
      },
      "source": [
        "Из матрицы можно получать целые строки или столбцы с помощью выражений __`array[i, :]`__ или __`array[:, j]`__ соответственно:"
      ]
    },
    {
      "cell_type": "code",
      "metadata": {
        "colab": {
          "base_uri": "https://localhost:8080/"
        },
        "id": "zDBy34XNftia",
        "outputId": "abd0e791-9e6a-4876-91dd-ef2098376020"
      },
      "source": [
        "print (\"Вторая строка матрицы d:\\n\", d[1, :])\n",
        "print (\"Четвертый столбец матрицы d:\\n\", d[:, 3])"
      ],
      "execution_count": null,
      "outputs": [
        {
          "output_type": "stream",
          "name": "stdout",
          "text": [
            "Вторая строка матрицы d:\n",
            " [ 8 10 12 14]\n",
            "Четвертый столбец матрицы d:\n",
            " [ 6 14 22]\n"
          ]
        }
      ]
    },
    {
      "cell_type": "markdown",
      "metadata": {
        "id": "bcOXds7_ftia"
      },
      "source": [
        "Еще один способ получения элементов — с помощью выражения __`array[list1, list2]`__, где __`list1`__, __`list2`__ — некоторые списки целых чисел. При такой адресации одновременно просматриваются оба списка и возвращаются элементы матрицы с соответствующими координатами. Следующий пример более понятно объясняет механизм работы такого индексирования:"
      ]
    },
    {
      "cell_type": "code",
      "metadata": {
        "colab": {
          "base_uri": "https://localhost:8080/"
        },
        "id": "Y7ukhQToftia",
        "outputId": "8e25a786-55de-4e1e-97e5-a311a4d89f41"
      },
      "source": [
        "print (\"Элементы матрицы d с координатами (1, 2) и (0, 3):\\n\", d[[1, 0], [2, 3]])"
      ],
      "execution_count": null,
      "outputs": [
        {
          "output_type": "stream",
          "name": "stdout",
          "text": [
            "Элементы матрицы d с координатами (1, 2) и (0, 3):\n",
            " [12  6]\n"
          ]
        }
      ]
    },
    {
      "cell_type": "code",
      "metadata": {
        "colab": {
          "base_uri": "https://localhost:8080/"
        },
        "id": "JTAOj-3Uftia",
        "outputId": "a18cc807-0dc2-493b-ce25-8f137e8923fa"
      },
      "source": [
        "# Slicing\n",
        "\n",
        "# Создадим матрицу (3, 4)\n",
        "# [[ 1  2  3  4]\n",
        "#  [ 5  6  7  8]\n",
        "#  [ 9 10 11 12]]\n",
        "a = np.array([[1,2,3,4], [5,6,7,8], [9,10,11,12]])\n",
        "\n",
        "# Используя слайсинг, созадим матрицу b из элементов матрицы а\n",
        "# будем использовать 0 и 1 строку, а так же 1 и 2 столебц\n",
        "# [[2 3]\n",
        "#  [6 7]]\n",
        "b = a[:2, 1:3]\n",
        "print(b)\n",
        "\n",
        "# ОБРАТИТЕ ВНИМАНИЕ НА ИЗМЕНЕНИЕ ИСХОДОЙ МАТРИЦЫ\n",
        "print(a[0, 1])   # Prints \"2\"\n",
        "b[0, 0] = 77     # b[0, 0] is the same piece of data as a[0, 1]\n",
        "print(a[0, 1])   # Prints \"77\""
      ],
      "execution_count": null,
      "outputs": [
        {
          "output_type": "stream",
          "name": "stdout",
          "text": [
            "[[2 3]\n",
            " [6 7]]\n",
            "2\n",
            "77\n"
          ]
        }
      ]
    },
    {
      "cell_type": "code",
      "metadata": {
        "colab": {
          "base_uri": "https://localhost:8080/"
        },
        "id": "0v779uJYftib",
        "outputId": "26f28195-6137-4480-b586-6024724f18bd"
      },
      "source": [
        "# Integer array indexing\n",
        "\n",
        "a = np.array([[1,2], [3, 4], [5, 6]])\n",
        "print(a)\n",
        "print()\n",
        "\n",
        "# Пример Integer array indexing \n",
        "# В результате получится массив размерности (3,)\n",
        "# Обратите внимание, что до запятой идут индексы строк, после - столбцов\n",
        "print(a[[0, 1, 2], [0, 1, 0]])  # Prints \"[1 4 5]\"\n",
        "print()\n",
        "\n",
        "# По-другому пример можно записать так\n",
        "print(np.array([a[0, 0], a[1, 1], a[2, 0]]))  # Prints \"[1 4 5]\""
      ],
      "execution_count": null,
      "outputs": [
        {
          "output_type": "stream",
          "name": "stdout",
          "text": [
            "[[1 2]\n",
            " [3 4]\n",
            " [5 6]]\n",
            "\n",
            "[1 4 5]\n",
            "\n",
            "[1 4 5]\n"
          ]
        }
      ]
    },
    {
      "cell_type": "markdown",
      "metadata": {
        "id": "trH6Jji3ftib"
      },
      "source": [
        "Примеры использования слайсинга:"
      ]
    },
    {
      "cell_type": "code",
      "metadata": {
        "colab": {
          "base_uri": "https://localhost:8080/"
        },
        "id": "dwQ_O-Mpftib",
        "outputId": "88ec3828-7c47-499a-d2a4-57ec171ebae9"
      },
      "source": [
        "\n",
        "# Создадим новый маассив, из которого будем выбирать эллементы\n",
        "a = np.array([[1,2,3], [4,5,6], [7,8,9], [10, 11, 12]])\n",
        "\n",
        "print(a)  # prints \"array([[ 1,  2,  3],\n",
        "          #                [ 4,  5,  6],\n",
        "          #                [ 7,  8,  9],\n",
        "          #                [10, 11, 12]])\"\n",
        "\n",
        "# Создадим массив индексов\n",
        "b = np.array([0, 2, 0, 1])\n",
        "\n",
        "# Выберем из каждой строки элемент с индексом из b (индекс столбца берется из b) \n",
        "print(a[np.arange(4), b])  # Prints \"[ 1  6  7 11]\"\n",
        "print()\n",
        "\n",
        "# Добавим к этим элементам 10\n",
        "a[np.arange(4), b] += 10\n",
        "\n",
        "print(a)  # prints \"array([[11,  2,  3],\n",
        "          #                [ 4,  5, 16],\n",
        "          #                [17,  8,  9],\n",
        "          #                [10, 21, 12]])"
      ],
      "execution_count": null,
      "outputs": [
        {
          "output_type": "stream",
          "name": "stdout",
          "text": [
            "[[ 1  2  3]\n",
            " [ 4  5  6]\n",
            " [ 7  8  9]\n",
            " [10 11 12]]\n",
            "[ 1  6  7 11]\n",
            "\n",
            "[[11  2  3]\n",
            " [ 4  5 16]\n",
            " [17  8  9]\n",
            " [10 21 12]]\n"
          ]
        }
      ]
    },
    {
      "cell_type": "code",
      "metadata": {
        "colab": {
          "base_uri": "https://localhost:8080/"
        },
        "id": "BpIpbfGSftib",
        "outputId": "5aceb668-6f12-42d5-acc6-8008d9065f53"
      },
      "source": [
        "a = np.array([[1,2], [3, 4], [5, 6]])\n",
        "\n",
        "bool_idx = (a > 2)   # Найдем эллементы матрицы a, которые больше 2\n",
        "                     # В результате получим матрицу b, такой же размерности, как и a\n",
        "\n",
        "print(bool_idx)      # Prints \"[[False False]\n",
        "print()              #          [ True  True]\n",
        "                     #          [ True  True]]\"\n",
        "\n",
        "# Воспользуемся полученным массивом для создания нового массива, ранга 1\n",
        "print(a[bool_idx])  # Prints \"[3 4 5 6]\"\n",
        "\n",
        "# Аналогично\n",
        "print(a[a > 2])     # Prints \"[3 4 5 6]\""
      ],
      "execution_count": null,
      "outputs": [
        {
          "output_type": "stream",
          "name": "stdout",
          "text": [
            "[[False False]\n",
            " [ True  True]\n",
            " [ True  True]]\n",
            "\n",
            "[3 4 5 6]\n",
            "[3 4 5 6]\n"
          ]
        }
      ]
    },
    {
      "cell_type": "code",
      "metadata": {
        "colab": {
          "base_uri": "https://localhost:8080/"
        },
        "id": "IlQQuK4Lftib",
        "outputId": "4367896a-c22b-4631-b0d6-aca12aecd66d"
      },
      "source": [
        "#Помните, что вы можете пользоваться сразу несколькими типами индексирования\n",
        "a = np.array([[1,2,3,4], [5,6,7,8], [9,10,11,12]])\n",
        "\n",
        "row_r1 = a[1, :]\n",
        "row_r2 = a[1:2, :] \n",
        "print(row_r1, row_r1.shape)  # Prints \"[5 6 7 8] (4,)\"\n",
        "print(row_r2, row_r2.shape)  # Prints \"[[5 6 7 8]] (1, 4)\""
      ],
      "execution_count": null,
      "outputs": [
        {
          "output_type": "stream",
          "name": "stdout",
          "text": [
            "[5 6 7 8] (4,)\n",
            "[[5 6 7 8]] (1, 4)\n"
          ]
        }
      ]
    },
    {
      "cell_type": "markdown",
      "metadata": {
        "id": "HK66kvA6ftic"
      },
      "source": [
        "Более подробно о различных способах индексирования в массивах\n",
        "см. [документацию](http://docs.scipy.org/doc/numpy/reference/arrays.indexing.html)."
      ]
    },
    {
      "cell_type": "markdown",
      "metadata": {
        "id": "gVvd_0rAftic"
      },
      "source": [
        "## 3. Векторы, вектор-строки и вектор-столбцы"
      ]
    },
    {
      "cell_type": "markdown",
      "metadata": {
        "id": "UjoQ1fnZftic"
      },
      "source": [
        "Следующие два способа задания массива кажутся одинаковыми: "
      ]
    },
    {
      "cell_type": "code",
      "metadata": {
        "id": "pr-J9hBKftic"
      },
      "source": [
        "a = np.array([1, 2, 3])\n",
        "b = np.array([[1], [2], [3]])"
      ],
      "execution_count": null,
      "outputs": []
    },
    {
      "cell_type": "markdown",
      "metadata": {
        "id": "ytv7rc3wftic"
      },
      "source": [
        "Однако, на самом деле, это задание одномерного массива (то есть _вектора_) и двумерного массива:"
      ]
    },
    {
      "cell_type": "code",
      "metadata": {
        "colab": {
          "base_uri": "https://localhost:8080/"
        },
        "id": "Ys1Z6aDVftic",
        "outputId": "76865b79-6351-479c-a055-dd7fef1fd08a"
      },
      "source": [
        "print (\"Вектор:\\n\", a)\n",
        "print (\"Его размерность:\\n\", a.shape)\n",
        "print (\"Двумерный массив:\\n\", b)\n",
        "print (\"Его размерность:\\n\", b.shape)"
      ],
      "execution_count": null,
      "outputs": [
        {
          "output_type": "stream",
          "name": "stdout",
          "text": [
            "Вектор:\n",
            " [1 2 3]\n",
            "Его размерность:\n",
            " (3,)\n",
            "Двумерный массив:\n",
            " [[1]\n",
            " [2]\n",
            " [3]]\n",
            "Его размерность:\n",
            " (3, 1)\n"
          ]
        }
      ]
    },
    {
      "cell_type": "markdown",
      "metadata": {
        "id": "_zHKbHADftic"
      },
      "source": [
        "__Обратите внимание:__ _вектор_ (одномерный массив) и _вектор-столбец_ или _вектор-строка_ (двумерные массивы) являются различными объектами в `NumPy`, хотя математически задают один и тот же объект. В случае одномерного массива кортеж __`shape`__ состоит из одного числа и имеет вид __`(n,)`__, где __`n`__ — длина вектора. В случае двумерных векторов в __`shape`__ присутствует еще одна размерность, равная единице. "
      ]
    },
    {
      "cell_type": "markdown",
      "metadata": {
        "id": "a9ND5X-Tftid"
      },
      "source": [
        "В большинстве случаев неважно, какое представление использовать, потому что часто срабатывает приведение типов. Но некоторые операции не работают для одномерных массивов. Например, транспонирование (о нем пойдет речь ниже):"
      ]
    },
    {
      "cell_type": "code",
      "metadata": {
        "id": "7tt5wMGHftid"
      },
      "source": [
        "a = a.T\n",
        "b = b.T"
      ],
      "execution_count": null,
      "outputs": []
    },
    {
      "cell_type": "code",
      "metadata": {
        "colab": {
          "base_uri": "https://localhost:8080/"
        },
        "id": "i7eDA2npftid",
        "outputId": "cecfe899-d349-48c2-e302-a5b64c46473e"
      },
      "source": [
        "print (\"Вектор не изменился:\\n\", a)\n",
        "print (\"Его размерность также не изменилась:\\n\", a.shape)\n",
        "print (\"Транспонированный двумерный массив:\\n\", b)\n",
        "print (\"Его размерность изменилась:\\n\", b.shape)"
      ],
      "execution_count": null,
      "outputs": [
        {
          "output_type": "stream",
          "name": "stdout",
          "text": [
            "Вектор не изменился:\n",
            " [1 2 3]\n",
            "Его размерность также не изменилась:\n",
            " (3,)\n",
            "Транспонированный двумерный массив:\n",
            " [[1 2 3]]\n",
            "Его размерность изменилась:\n",
            " (1, 3)\n"
          ]
        }
      ]
    },
    {
      "cell_type": "markdown",
      "metadata": {
        "id": "ZYQeLi6Kftid"
      },
      "source": [
        "## 4. Datatypes\n",
        "Все элементы в массиве numpy принадлежат одному типу. В этом плане массивы ближе к C, чем к привычным вам листам питона. Numpy имеет множество встренных типов, подходящих для решения большинства задач."
      ]
    },
    {
      "cell_type": "code",
      "metadata": {
        "colab": {
          "base_uri": "https://localhost:8080/"
        },
        "id": "VsUbnJdTftid",
        "outputId": "415ca2bb-2d2e-4001-cad2-8872ef17d5cf"
      },
      "source": [
        "x = np.array([1, 2])   # Автоматический выбор типа\n",
        "print(x.dtype)         # Prints \"int64\"\n",
        "\n",
        "x = np.array([1.0, 2.0])   # Автоматический выбор типа\n",
        "print(x.dtype)             # Prints \"float64\"\n",
        "\n",
        "x = np.array([1, 2], dtype=np.int64)   # Принудительное выставление типа\n",
        "print(x.dtype)                         # Prints \"int64\""
      ],
      "execution_count": null,
      "outputs": [
        {
          "output_type": "stream",
          "name": "stdout",
          "text": [
            "int64\n",
            "float64\n",
            "int64\n"
          ]
        }
      ]
    },
    {
      "cell_type": "markdown",
      "metadata": {
        "id": "DjnzFZ8cftid"
      },
      "source": [
        "## 5. Математические операции\n",
        "К массивам (матрицам) можно применять известные вам математические операции. Следут понимать, что при этом у элементов должны быть схожие размерности. Поведение в случае не совпадения размерностей хорошо описанно в документации numpy."
      ]
    },
    {
      "cell_type": "code",
      "metadata": {
        "id": "Wd1ueSlqftid"
      },
      "source": [
        "x = np.array([[1,2],[3,4]], dtype=np.float64)\n",
        "y = np.array([[5,6],[7,8]], dtype=np.float64)\n",
        "arr = np.array([1, 2])"
      ],
      "execution_count": null,
      "outputs": []
    },
    {
      "cell_type": "code",
      "metadata": {
        "colab": {
          "base_uri": "https://localhost:8080/"
        },
        "id": "Z6tyYnI4ftie",
        "outputId": "ce4ab4ef-1017-4e5b-8a16-cde4047dac89"
      },
      "source": [
        "# Сложение происходит поэлеметно\n",
        "\n",
        "# [[ 6.0  8.0]\n",
        "#  [10.0 12.0]]\n",
        "print(x + y)\n",
        "print()\n",
        "print(np.add(x, y))\n",
        "print('С числом')\n",
        "print(x + 1)\n",
        "print('C массивом другой размерности')\n",
        "print(x + arr)"
      ],
      "execution_count": null,
      "outputs": [
        {
          "output_type": "stream",
          "name": "stdout",
          "text": [
            "[[ 6.  8.]\n",
            " [10. 12.]]\n",
            "\n",
            "[[ 6.  8.]\n",
            " [10. 12.]]\n",
            "С числом\n",
            "[[2. 3.]\n",
            " [4. 5.]]\n",
            "C массивом другой размерности\n",
            "[[2. 4.]\n",
            " [4. 6.]]\n"
          ]
        }
      ]
    },
    {
      "cell_type": "code",
      "metadata": {
        "colab": {
          "base_uri": "https://localhost:8080/"
        },
        "id": "vfB90eIsftie",
        "outputId": "bcd684a5-4560-4897-ee6e-caa6509cf4bd"
      },
      "source": [
        "# Вычитание\n",
        "print(x - y)\n",
        "print(np.subtract(x, y))"
      ],
      "execution_count": null,
      "outputs": [
        {
          "output_type": "stream",
          "name": "stdout",
          "text": [
            "[[-4. -4.]\n",
            " [-4. -4.]]\n",
            "[[-4. -4.]\n",
            " [-4. -4.]]\n"
          ]
        }
      ]
    },
    {
      "cell_type": "code",
      "metadata": {
        "colab": {
          "base_uri": "https://localhost:8080/"
        },
        "id": "tnMnbktjftie",
        "outputId": "1c0ed340-7835-4ffb-c863-533bba5ce98d"
      },
      "source": [
        "# Деление\n",
        "# [[ 0.2         0.33333333]\n",
        "#  [ 0.42857143  0.5       ]]\n",
        "print(x / y)\n",
        "print(np.divide(x, y))"
      ],
      "execution_count": null,
      "outputs": [
        {
          "output_type": "stream",
          "name": "stdout",
          "text": [
            "[[0.2        0.33333333]\n",
            " [0.42857143 0.5       ]]\n",
            "[[0.2        0.33333333]\n",
            " [0.42857143 0.5       ]]\n"
          ]
        }
      ]
    },
    {
      "cell_type": "code",
      "metadata": {
        "colab": {
          "base_uri": "https://localhost:8080/"
        },
        "id": "1J8Nbg0Bftie",
        "outputId": "5656cce0-25ca-4791-d602-eb63fdaa20cc"
      },
      "source": [
        "# Другие функции\n",
        "# [[ 1.          1.41421356]\n",
        "#  [ 1.73205081  2.        ]]\n",
        "print(np.sqrt(x))"
      ],
      "execution_count": null,
      "outputs": [
        {
          "output_type": "stream",
          "name": "stdout",
          "text": [
            "[[1.         1.41421356]\n",
            " [1.73205081 2.        ]]\n"
          ]
        }
      ]
    },
    {
      "cell_type": "markdown",
      "metadata": {
        "id": "-AhRykycftie"
      },
      "source": [
        "## 6. Умножение матриц и столбцов"
      ]
    },
    {
      "cell_type": "markdown",
      "metadata": {
        "id": "miq75UUKftie"
      },
      "source": [
        "__Напоминание теории.__ Операция __умножения__ определена для двух матриц, таких что число столбцов первой равно числу строк второй. \n",
        "\n",
        "Пусть матрицы $A$ и $B$ таковы, что $A \\in \\mathbb{R}^{n \\times k}$ и $B \\in \\mathbb{R}^{k \\times m}$. __Произведением__ матриц $A$ и $B$ называется матрица $C$, такая что $c_{ij} = \\sum_{r=1}^{k} a_{ir}b_{rj}$, где $c_{ij}$ — элемент матрицы $C$, стоящий на пересечении строки с номером $i$ и столбца с номером $j$.\n",
        "\n",
        "В `NumPy` произведение матриц вычисляется с помощью функции __`numpy.dot(a, b, ...)`__ или с помощью _метода_ __`array1.dot(array2)`__, где __`array1`__ и __`array2`__ — перемножаемые матрицы."
      ]
    },
    {
      "cell_type": "code",
      "metadata": {
        "id": "aJONUnDVftif"
      },
      "source": [
        "a = np.array([[1, 0], [0, 1]])\n",
        "b = np.array([[4, 1], [2, 2]])\n",
        "r1 = np.dot(a, b)\n",
        "r2 = a.dot(b)"
      ],
      "execution_count": null,
      "outputs": []
    },
    {
      "cell_type": "code",
      "metadata": {
        "colab": {
          "base_uri": "https://localhost:8080/"
        },
        "id": "QTOgkoUsftif",
        "outputId": "3d7e05bf-bf21-4352-8338-b241b8b0ce62"
      },
      "source": [
        "print (\"Матрица A:\\n\", a)\n",
        "print (\"Матрица B:\\n\", b)\n",
        "print (\"Результат умножения функцией:\\n\", r1)\n",
        "print (\"Результат умножения методом:\\n\", r2)"
      ],
      "execution_count": null,
      "outputs": [
        {
          "output_type": "stream",
          "name": "stdout",
          "text": [
            "Матрица A:\n",
            " [[1 0]\n",
            " [0 1]]\n",
            "Матрица B:\n",
            " [[4 1]\n",
            " [2 2]]\n",
            "Результат умножения функцией:\n",
            " [[4 1]\n",
            " [2 2]]\n",
            "Результат умножения методом:\n",
            " [[4 1]\n",
            " [2 2]]\n"
          ]
        }
      ]
    },
    {
      "cell_type": "markdown",
      "metadata": {
        "id": "nLt6k5bdftif"
      },
      "source": [
        "Матрицы в `NumPy` можно умножать и на векторы:"
      ]
    },
    {
      "cell_type": "code",
      "metadata": {
        "id": "AntX6Lrlftif"
      },
      "source": [
        "c = np.array([1, 2])\n",
        "r3 = b.dot(c)"
      ],
      "execution_count": null,
      "outputs": []
    },
    {
      "cell_type": "code",
      "metadata": {
        "colab": {
          "base_uri": "https://localhost:8080/"
        },
        "id": "2RyCuRcQftif",
        "outputId": "1a58ee3f-fb65-4155-eea2-495ebe1b27fd"
      },
      "source": [
        "print (\"Матрица:\\n\", b)\n",
        "print (\"Вектор:\\n\", c)\n",
        "print (\"Результат умножения:\\n\", r3)"
      ],
      "execution_count": null,
      "outputs": [
        {
          "output_type": "stream",
          "name": "stdout",
          "text": [
            "Матрица:\n",
            " [[4 1]\n",
            " [2 2]]\n",
            "Вектор:\n",
            " [1 2]\n",
            "Результат умножения:\n",
            " [6 6]\n"
          ]
        }
      ]
    },
    {
      "cell_type": "markdown",
      "metadata": {
        "id": "_-45ZC0pftif"
      },
      "source": [
        "__Обратите внимание:__ операция __`*`__ производит над матрицами покоординатное умножение, а не матричное!"
      ]
    },
    {
      "cell_type": "code",
      "metadata": {
        "id": "SlyOKp43ftif"
      },
      "source": [
        "r = a * b"
      ],
      "execution_count": null,
      "outputs": []
    },
    {
      "cell_type": "code",
      "metadata": {
        "scrolled": true,
        "colab": {
          "base_uri": "https://localhost:8080/"
        },
        "id": "P25QjCAzftig",
        "outputId": "4d3b8a1b-2d94-44ab-9ab3-8f3167d21961"
      },
      "source": [
        "print (\"Матрица A:\\n\", a)\n",
        "print (\"Матрица B:\\n\", b)\n",
        "print (\"Результат покоординатного умножения через операцию *:\\n\", r)"
      ],
      "execution_count": null,
      "outputs": [
        {
          "output_type": "stream",
          "name": "stdout",
          "text": [
            "Матрица A:\n",
            " [[1 0]\n",
            " [0 1]]\n",
            "Матрица B:\n",
            " [[4 1]\n",
            " [2 2]]\n",
            "Результат покоординатного умножения через операцию *:\n",
            " [[4 0]\n",
            " [0 2]]\n"
          ]
        }
      ]
    },
    {
      "cell_type": "markdown",
      "metadata": {
        "id": "m1uE9BfRftig"
      },
      "source": [
        "Более подробно о матричном умножении в `NumPy`\n",
        "см. [документацию](http://docs.scipy.org/doc/numpy-1.10.0/reference/routines.linalg.html#matrix-and-vector-products)."
      ]
    },
    {
      "cell_type": "markdown",
      "metadata": {
        "id": "ugZsT6jTftig"
      },
      "source": [
        "## 7. Объединение массивов\n",
        "Массивы можно Объединенять. Есть горизонтальное и вертикальное объединение.\n"
      ]
    },
    {
      "cell_type": "code",
      "metadata": {
        "colab": {
          "base_uri": "https://localhost:8080/"
        },
        "id": "nmkHap_vftig",
        "outputId": "40e9ad69-86e2-4aa0-d95c-54f6d9e9cfbf"
      },
      "source": [
        "a = np.floor(10*np.random.random((2,2)))\n",
        "b = np.floor(10*np.random.random((2,2)))\n",
        "\n",
        "print(a)\n",
        "print(b)\n",
        "print()\n",
        "\n",
        "\n",
        "print(np.vstack((a,b)))\n",
        "print()\n",
        "\n",
        "print(np.hstack((a,b)))"
      ],
      "execution_count": null,
      "outputs": [
        {
          "output_type": "stream",
          "name": "stdout",
          "text": [
            "[[8. 6.]\n",
            " [6. 3.]]\n",
            "[[2. 9.]\n",
            " [0. 2.]]\n",
            "\n",
            "[[8. 6.]\n",
            " [6. 3.]\n",
            " [2. 9.]\n",
            " [0. 2.]]\n",
            "\n",
            "[[8. 6. 2. 9.]\n",
            " [6. 3. 0. 2.]]\n"
          ]
        }
      ]
    },
    {
      "cell_type": "markdown",
      "metadata": {
        "id": "QZCX_bkIftig"
      },
      "source": [
        "Массивы можно переформировать при помощи метода, который задает новый многомерный массив. Следуя следующему примеру, мы переформатируем одномерный массив из десяти элементов во двумерный массив, состоящий из пяти строк и двух столбцов:"
      ]
    },
    {
      "cell_type": "code",
      "metadata": {
        "colab": {
          "base_uri": "https://localhost:8080/"
        },
        "id": "DqlzT7jJftig",
        "outputId": "4f419d5a-1051-48c8-c8ae-29a09a70c6ff"
      },
      "source": [
        "a = np.array(range(10), float)\n",
        "print(a)\n",
        "print()\n",
        "\n",
        "# Превратим в матрицу\n",
        "a = a.reshape((5, 2))\n",
        "print(a)\n",
        "print()\n",
        "\n",
        "# Вернем обратно\n",
        "print(a.flatten())\n",
        "\n",
        "# Другой вариант\n",
        "print(a.reshape((-1)))\n",
        "# Превратим в марицу (9, 1)\n",
        "print(a.reshape((-1, 1)))\n",
        "# Превратим в марицу (1, 9)\n",
        "print(a.reshape((1, -1)))"
      ],
      "execution_count": null,
      "outputs": [
        {
          "output_type": "stream",
          "name": "stdout",
          "text": [
            "[0. 1. 2. 3. 4. 5. 6. 7. 8. 9.]\n",
            "\n",
            "[[0. 1.]\n",
            " [2. 3.]\n",
            " [4. 5.]\n",
            " [6. 7.]\n",
            " [8. 9.]]\n",
            "\n",
            "[0. 1. 2. 3. 4. 5. 6. 7. 8. 9.]\n",
            "[0. 1. 2. 3. 4. 5. 6. 7. 8. 9.]\n",
            "[[0.]\n",
            " [1.]\n",
            " [2.]\n",
            " [3.]\n",
            " [4.]\n",
            " [5.]\n",
            " [6.]\n",
            " [7.]\n",
            " [8.]\n",
            " [9.]]\n",
            "[[0. 1. 2. 3. 4. 5. 6. 7. 8. 9.]]\n"
          ]
        }
      ]
    },
    {
      "cell_type": "markdown",
      "metadata": {
        "id": "Ldu9hKnXftig"
      },
      "source": [
        "# Задания: (Блок 1)"
      ]
    },
    {
      "cell_type": "markdown",
      "metadata": {
        "id": "MI-1W0Prftih"
      },
      "source": [
        "### Задание 1: \n",
        "Решите без использования циклов средставми NumPy (каждый пункт решается в 1-2 строчки)\n",
        "1. Создайте вектор с эелементами от 12 до 42\n",
        "2. Создайте вектор из нулей длины 12, но его пятый елемент должен быть равен 1\n",
        "3. Создайте матрицу (3, 3), заполненую от 0 до 8\n",
        "4. Найдите все положительные числа в np.array([1,2,0,0,4,0])\n",
        "5. Умножьте матрицу размерности (5, 3) на (3, 2)\n",
        "6. Создайте матрицу (10, 10) так, чтобы на границе были 0, а внтури 1\n",
        "7. Создайте рандомный вектор и отсортируйте его\n",
        "8. Каков эквивалент функции enumerate для numpy массивов?\n",
        "9. *Создайте рандомный вектор и выполните нормализацию столбцов (из каждого столбца вычесть среднее этого столбца, из каждого столбца вычесть sd этого столбца)\n",
        "10. *Для заданного числа найдите ближайший к нему элемент в векторе \n",
        "11. *Найдите N наибольших значений в векторе"
      ]
    },
    {
      "cell_type": "code",
      "metadata": {
        "id": "f55Gsx77ftih",
        "colab": {
          "base_uri": "https://localhost:8080/"
        },
        "outputId": "c813db58-7ae0-4189-8f04-24b98ac70e1c"
      },
      "source": [
        "v = np.arange(12, 43, 1)\n",
        "v"
      ],
      "execution_count": null,
      "outputs": [
        {
          "output_type": "execute_result",
          "data": {
            "text/plain": [
              "array([12, 13, 14, 15, 16, 17, 18, 19, 20, 21, 22, 23])"
            ]
          },
          "metadata": {},
          "execution_count": 146
        }
      ]
    },
    {
      "cell_type": "code",
      "metadata": {
        "colab": {
          "base_uri": "https://localhost:8080/"
        },
        "id": "23ZQsHAWmZ7v",
        "outputId": "5af8ce5f-3b1b-4616-ef56-eb078785087a"
      },
      "source": [
        "v = np.zeros(12)\n",
        "v[4] = 1\n",
        "v"
      ],
      "execution_count": null,
      "outputs": [
        {
          "output_type": "execute_result",
          "data": {
            "text/plain": [
              "array([0., 0., 0., 0., 1., 0., 0., 0., 0., 0., 0., 0.])"
            ]
          },
          "metadata": {},
          "execution_count": 147
        }
      ]
    },
    {
      "cell_type": "code",
      "metadata": {
        "colab": {
          "base_uri": "https://localhost:8080/"
        },
        "id": "_ImCr2QmmriI",
        "outputId": "a12bde1a-3fdb-4537-b97f-7e53dfca989f"
      },
      "source": [
        "v = np.arange(0, 9, 1).reshape(3, 3)\n",
        "v"
      ],
      "execution_count": null,
      "outputs": [
        {
          "output_type": "execute_result",
          "data": {
            "text/plain": [
              "array([[0, 1, 2],\n",
              "       [3, 4, 5],\n",
              "       [6, 7, 8]])"
            ]
          },
          "metadata": {},
          "execution_count": 148
        }
      ]
    },
    {
      "cell_type": "code",
      "metadata": {
        "colab": {
          "base_uri": "https://localhost:8080/"
        },
        "id": "Z_bZT2jfmzDj",
        "outputId": "f6cfeb25-79c3-42c5-85c0-2b7b86f7369a"
      },
      "source": [
        "v = np.array([1,2,0,0,4,0])\n",
        "v = v[v > 0]\n",
        "v"
      ],
      "execution_count": null,
      "outputs": [
        {
          "output_type": "execute_result",
          "data": {
            "text/plain": [
              "array([1, 2, 4])"
            ]
          },
          "metadata": {},
          "execution_count": 150
        }
      ]
    },
    {
      "cell_type": "code",
      "metadata": {
        "colab": {
          "base_uri": "https://localhost:8080/"
        },
        "id": "CU-KW43Mm6P3",
        "outputId": "69664bef-d8b9-4135-a757-e37b3dca7f60"
      },
      "source": [
        "np.random.rand(5, 3) @ np.random.rand(3, 2) "
      ],
      "execution_count": null,
      "outputs": [
        {
          "output_type": "execute_result",
          "data": {
            "text/plain": [
              "array([[1.52765229, 1.1636816 ],\n",
              "       [1.76439778, 1.52414416],\n",
              "       [1.80178878, 1.32080637],\n",
              "       [1.15954912, 0.89910673],\n",
              "       [0.9642607 , 1.06499791]])"
            ]
          },
          "metadata": {},
          "execution_count": 152
        }
      ]
    },
    {
      "cell_type": "code",
      "metadata": {
        "colab": {
          "base_uri": "https://localhost:8080/"
        },
        "id": "ppG0VextncyB",
        "outputId": "02e36558-51d3-4ac0-b733-f654879447b4"
      },
      "source": [
        "v = np.zeros(10 * 10).reshape(10, 10)\n",
        "v[:, 0] = 1\n",
        "v[:, 9] = 1\n",
        "v[0, :] = 1\n",
        "v[9, :] = 1\n",
        "v"
      ],
      "execution_count": null,
      "outputs": [
        {
          "output_type": "execute_result",
          "data": {
            "text/plain": [
              "array([[1., 1., 1., 1., 1., 1., 1., 1., 1., 1.],\n",
              "       [1., 0., 0., 0., 0., 0., 0., 0., 0., 1.],\n",
              "       [1., 0., 0., 0., 0., 0., 0., 0., 0., 1.],\n",
              "       [1., 0., 0., 0., 0., 0., 0., 0., 0., 1.],\n",
              "       [1., 0., 0., 0., 0., 0., 0., 0., 0., 1.],\n",
              "       [1., 0., 0., 0., 0., 0., 0., 0., 0., 1.],\n",
              "       [1., 0., 0., 0., 0., 0., 0., 0., 0., 1.],\n",
              "       [1., 0., 0., 0., 0., 0., 0., 0., 0., 1.],\n",
              "       [1., 0., 0., 0., 0., 0., 0., 0., 0., 1.],\n",
              "       [1., 1., 1., 1., 1., 1., 1., 1., 1., 1.]])"
            ]
          },
          "metadata": {},
          "execution_count": 163
        }
      ]
    },
    {
      "cell_type": "code",
      "metadata": {
        "colab": {
          "base_uri": "https://localhost:8080/"
        },
        "id": "Bb-Mu6ZDo5fc",
        "outputId": "f6624e84-8791-4365-ba24-b1a9d7cd3b1a"
      },
      "source": [
        "v = np.random.rand(10)\n",
        "v = np.sort(v, axis=None) \n",
        "v"
      ],
      "execution_count": null,
      "outputs": [
        {
          "output_type": "execute_result",
          "data": {
            "text/plain": [
              "array([0.06028918, 0.12668864, 0.21706309, 0.4396396 , 0.46209749,\n",
              "       0.73088563, 0.78426275, 0.78878883, 0.97598118, 0.99184346])"
            ]
          },
          "metadata": {},
          "execution_count": 165
        }
      ]
    },
    {
      "cell_type": "markdown",
      "metadata": {
        "id": "vUGaT343pflZ"
      },
      "source": [
        "эквивалент функции enumerate для numpy массивов - np.ndenumerate"
      ]
    },
    {
      "cell_type": "code",
      "metadata": {
        "colab": {
          "base_uri": "https://localhost:8080/"
        },
        "id": "RrN36GuYqWMk",
        "outputId": "0acd6590-e482-43fa-9252-9d33ed75a710"
      },
      "source": [
        "v = np.random.rand(6, 6) * 10\n",
        "v = (v - np.average(v, axis=1)) / v.std(axis=1)\n",
        "v"
      ],
      "execution_count": null,
      "outputs": [
        {
          "output_type": "execute_result",
          "data": {
            "text/plain": [
              "array([[ 1.25651596, -0.26306345,  2.37502275,  1.16611739,  1.74123561,\n",
              "        -0.27328967],\n",
              "       [-1.75863821, -0.69248863,  0.94677032,  1.24623875, -0.44307869,\n",
              "        -2.1008929 ],\n",
              "       [-1.53571095,  0.07672624, -0.19112654,  0.25020279, -0.98339946,\n",
              "        -0.91959418],\n",
              "       [ 0.27136097,  2.00104205,  2.280872  , -1.63548764, -0.16770407,\n",
              "        -0.29218171],\n",
              "       [-1.98823134,  1.93187766,  0.11798113, -1.862651  , -0.21468099,\n",
              "         0.87562199],\n",
              "       [-0.84803249,  1.14183705,  0.84989069,  0.59484401,  1.50484633,\n",
              "        -1.86404539]])"
            ]
          },
          "metadata": {},
          "execution_count": 188
        }
      ]
    },
    {
      "cell_type": "code",
      "metadata": {
        "colab": {
          "base_uri": "https://localhost:8080/"
        },
        "id": "hktVzAYhss_r",
        "outputId": "58d08283-cb78-4c12-ff9f-f002aa2d9235"
      },
      "source": [
        "print('Введите искомое число')\n",
        "num = float(input())\n",
        "v = np.random.rand(10) * 10 \n",
        "print(v)\n",
        "g = abs(v - num)\n",
        "print(v[np.argmin(g)])"
      ],
      "execution_count": null,
      "outputs": [
        {
          "output_type": "stream",
          "name": "stdout",
          "text": [
            "10\n",
            "[7.9891683  9.3276217  4.57474839 1.29040592 7.17186125 7.51448051\n",
            " 1.98066348 6.28602399 9.03934494 8.11189099]\n",
            "9.327621704470364\n"
          ]
        }
      ]
    },
    {
      "cell_type": "code",
      "metadata": {
        "colab": {
          "base_uri": "https://localhost:8080/"
        },
        "id": "AY3iVi9fpKRw",
        "outputId": "2bb3d32d-2eec-4b28-eff3-690d072c40e5"
      },
      "source": [
        "v = np.array([10, 10, 10, 2, 1, 2, 4, -1, -10])\n",
        "v = v[v == v.max(axis=0)]\n",
        "v"
      ],
      "execution_count": null,
      "outputs": [
        {
          "output_type": "execute_result",
          "data": {
            "text/plain": [
              "array([10, 10, 10])"
            ]
          },
          "metadata": {},
          "execution_count": 175
        }
      ]
    },
    {
      "cell_type": "markdown",
      "metadata": {
        "id": "0RdLE0cxftih"
      },
      "source": [
        "### Задание 2:\n",
        "**Напишите полностью векторизованный вариант**  \n",
        "Дан трёхмерный массив, содержащий изображение, размера (height, width, numChannels), а также вектор длины numChannels. Сложить каналы изображения с указанными весами, и вернуть результат в\n",
        "виде матрицы размера (height, width). Считать реальное изображение можно при помощи функции\n",
        "`scipy.misc.imread` (если изображение не в формате png, установите пакет pillow: `conda install pillow`).\n",
        "Преобразуйте цветное изображение в оттенки серого, использовав коэффициенты np.array([0.299, 0.587,\n",
        "0.114])."
      ]
    },
    {
      "cell_type": "code",
      "metadata": {
        "id": "w1r0JmGzftih",
        "colab": {
          "base_uri": "https://localhost:8080/"
        },
        "outputId": "4ebd241b-070d-4fd8-b930-432436cd8393"
      },
      "source": [
        "!pip install opencv-python\n",
        "import cv2\n",
        "\n",
        "%pylab inline\n",
        "import matplotlib.pyplot as plt\n",
        "import matplotlib.image as mpimg"
      ],
      "execution_count": 252,
      "outputs": [
        {
          "output_type": "stream",
          "name": "stdout",
          "text": [
            "Requirement already satisfied: opencv-python in /usr/local/lib/python3.7/dist-packages (4.1.2.30)\n",
            "Requirement already satisfied: numpy>=1.14.5 in /usr/local/lib/python3.7/dist-packages (from opencv-python) (1.19.5)\n",
            "Populating the interactive namespace from numpy and matplotlib\n"
          ]
        },
        {
          "output_type": "stream",
          "name": "stderr",
          "text": [
            "/usr/local/lib/python3.7/dist-packages/IPython/core/magics/pylab.py:161: UserWarning: pylab import has clobbered these variables: ['det', 'gray', 'matrix', 'e']\n",
            "`%matplotlib` prevents importing * from pylab and numpy\n",
            "  \"\\n`%matplotlib` prevents importing * from pylab and numpy\"\n"
          ]
        }
      ]
    },
    {
      "cell_type": "code",
      "metadata": {
        "colab": {
          "base_uri": "https://localhost:8080/"
        },
        "id": "CXjTr84Xu34o",
        "outputId": "b5d196ce-c99b-41e9-a8f4-0df1de7fca76"
      },
      "source": [
        "def func1d(a):\n",
        "  return(a * weights)\n",
        "\n",
        "\n",
        "img = cv2.imread(\"pick.jpg\")\n",
        "print(img.shape)\n",
        "weights = np.array([0.299, 0.587, 0.114])\n",
        "img2 = np.apply_along_axis(func1d, 2, img)\n",
        "img2 = np.sum(img2, axis=2)\n",
        "cv2.imwrite('grey_pick.jpg', img2)"
      ],
      "execution_count": 296,
      "outputs": [
        {
          "output_type": "stream",
          "name": "stdout",
          "text": [
            "(717, 500, 3)\n"
          ]
        },
        {
          "output_type": "execute_result",
          "data": {
            "text/plain": [
              "True"
            ]
          },
          "metadata": {},
          "execution_count": 296
        }
      ]
    },
    {
      "cell_type": "markdown",
      "metadata": {
        "id": "62blEG2qftih"
      },
      "source": [
        "## 8. Транспонирование матриц"
      ]
    },
    {
      "cell_type": "markdown",
      "metadata": {
        "id": "u8dOqebUftih"
      },
      "source": [
        "__Напоминание теории.__ __Транспонированной матрицей__ $A^{T}$ называется матрица, полученная из исходной матрицы $A$ заменой строк на столбцы. Формально: элементы матрицы $A^{T}$ определяются как $a^{T}_{ij} = a_{ji}$, где $a^{T}_{ij}$ — элемент матрицы $A^{T}$, стоящий на пересечении строки с номером $i$ и столбца с номером $j$.\n",
        "\n",
        "В `NumPy` транспонированная матрица вычисляется с помощью функции __`numpy.transpose()`__ или с помощью _метода_ __`array.T`__, где __`array`__ — нужный двумерный массив.\n"
      ]
    },
    {
      "cell_type": "code",
      "metadata": {
        "id": "o5U584igftih"
      },
      "source": [
        "a = np.array([[1, 2], [3, 4]])\n",
        "b = np.transpose(a)\n",
        "c = a.T"
      ],
      "execution_count": null,
      "outputs": []
    },
    {
      "cell_type": "code",
      "metadata": {
        "scrolled": true,
        "colab": {
          "base_uri": "https://localhost:8080/"
        },
        "id": "zXHijhhvftih",
        "outputId": "a01e2447-9843-47a9-ca45-518ea7eb5b89"
      },
      "source": [
        "print (\"Матрица:\\n\", a)\n",
        "print (\"Транспонирование функцией:\\n\", b)\n",
        "print (\"Транспонирование методом:\\n\",  c)"
      ],
      "execution_count": null,
      "outputs": [
        {
          "output_type": "stream",
          "name": "stdout",
          "text": [
            "Матрица:\n",
            " [[1 2]\n",
            " [3 4]]\n",
            "Транспонирование функцией:\n",
            " [[1 3]\n",
            " [2 4]]\n",
            "Транспонирование методом:\n",
            " [[1 3]\n",
            " [2 4]]\n"
          ]
        }
      ]
    },
    {
      "cell_type": "markdown",
      "metadata": {
        "id": "Yj_UqSW1ftih"
      },
      "source": [
        "См. более подробно о \n",
        "[numpy.transpose()](http://docs.scipy.org/doc/numpy-1.10.0/reference/generated/numpy.transpose.html) и \n",
        "[array.T](http://docs.scipy.org/doc/numpy-1.10.0/reference/generated/numpy.ndarray.T.html) в `NumPy`."
      ]
    },
    {
      "cell_type": "markdown",
      "metadata": {
        "id": "A5UYpmuSftii"
      },
      "source": [
        "В следующих разделах активно используется модуль __`numpy.linalg`__, реализующий некоторые приложения линейной алгебры. Более подробно о функциях, описанных ниже, и различных других функциях этого модуля можно посмотреть в его [документации](http://docs.scipy.org/doc/numpy-1.10.0/reference/routines.linalg.html#linear-algebra-numpy-linalg)."
      ]
    },
    {
      "cell_type": "markdown",
      "metadata": {
        "id": "BLCa4Mktftii"
      },
      "source": [
        "## 9. Определитель матрицы"
      ]
    },
    {
      "cell_type": "markdown",
      "metadata": {
        "id": "7J7wY-eoftii"
      },
      "source": [
        "__Напоминание теории.__ Для квадратных матриц существует понятие __определителя__.\n",
        "\n",
        "Пусть $A$ — квадратная матрица. __Определителем__ (или __детерминантом__) матрицы $A \\in \\mathbb{R}^{n \\times n}$ назовем число \n",
        "\n",
        "$$\\det A = \\sum_{\\alpha_{1}, \\alpha_{2}, \\dots, \\alpha_{n}} (-1)^{N(\\alpha_{1}, \\alpha_{2}, \\dots, \\alpha_{n})} \\cdot a_{\\alpha_{1} 1} \\cdot \\cdot \\cdot a_{\\alpha_{n} n},\n",
        "$$\n",
        "где $\\alpha_{1}, \\alpha_{2}, \\dots, \\alpha_{n}$ — перестановка чисел от $1$ до $n$, $N(\\alpha_{1}, \\alpha_{2}, \\dots, \\alpha_{n})$ — число инверсий в перестановке, суммирование ведется по всем возможным перестановкам длины $n$.\n",
        "\n",
        "_Не стоит расстраиваться, если это определение понятно не до конца — в дальнейшем в таком виде оно не понадобится._\n",
        "\n",
        "Например, для матрицы размера $2 \\times 2$ получается:\n",
        "\n",
        "$$\\det \\left( \\begin{array}{cc} a_{11} & a_{12} \\\\ a_{21} & a_{22}  \\end{array} \\right) = a_{11} a_{22} - a_{12} a_{21}\n",
        "$$\n",
        "\n",
        "\n",
        "Вычисление определителя матрицы по определению требует порядка $n!$ операций, поэтому разработаны методы, которые позволяют вычислять его быстро и эффективно.\n",
        "\n",
        "В `NumPy` определитель матрицы вычисляется с помощью функции __`numpy.linalg.det(a)`__, где __`a`__ — исходная матрица."
      ]
    },
    {
      "cell_type": "code",
      "metadata": {
        "id": "lJYsqN3wftii"
      },
      "source": [
        "a = np.array([[1, 2, 1], [1, 1, 4], [2, 3, 6]], dtype=np.float32)\n",
        "det = np.linalg.det(a)"
      ],
      "execution_count": null,
      "outputs": []
    },
    {
      "cell_type": "code",
      "metadata": {
        "colab": {
          "base_uri": "https://localhost:8080/"
        },
        "id": "X6KlfHEUftii",
        "outputId": "2ff70e0c-ee2e-4844-e510-4751edb0eebc"
      },
      "source": [
        "print (\"Матрица:\\n\", a)\n",
        "print (\"Определитель:\\n\", det)"
      ],
      "execution_count": null,
      "outputs": [
        {
          "output_type": "stream",
          "name": "stdout",
          "text": [
            "Матрица:\n",
            " [[1. 2. 1.]\n",
            " [1. 1. 4.]\n",
            " [2. 3. 6.]]\n",
            "Определитель:\n",
            " -1.0\n"
          ]
        }
      ]
    },
    {
      "cell_type": "markdown",
      "metadata": {
        "id": "NmKns-hWftii"
      },
      "source": [
        "Рассмотрим одно интересное свойство определителя. Пусть у нас есть параллелограмм с углами в точках $(0, 0), (c,d), (a+c, b+d), (a, b)$ (углы даны в порядке обхода по часовой стрелке). Тогда площадь этого параллелограмма можно вычислить как модуль определителя матрицы $\\left( \\begin{array}{cc} a & c \\\\ b & d  \\end{array} \\right)$. Похожим образом можно выразить и объем параллелепипеда через определитель матрицы размера $3 \\times 3$."
      ]
    },
    {
      "cell_type": "markdown",
      "metadata": {
        "id": "77QlNHrLftii"
      },
      "source": [
        "## 10. Ранг матрицы"
      ]
    },
    {
      "cell_type": "markdown",
      "metadata": {
        "id": "Fai8YlVnftii"
      },
      "source": [
        "__Напоминание теории.__ __Рангом матрицы__ $A$ называется максимальное число линейно независимых строк (столбцов) этой матрицы.\n",
        "\n",
        "В `NumPy` ранг матрицы вычисляется с помощью функции __`numpy.linalg.matrix_rank(M, tol=None)`__, где __`M`__ — матрица, __`tol`__ — параметр, отвечающий за некоторую точность вычисления. В простом случае можно его не задавать, и функция сама определит подходящее значение этого параметра."
      ]
    },
    {
      "cell_type": "code",
      "metadata": {
        "id": "kjQB-54Aftii"
      },
      "source": [
        "a = np.array([[1, 2, 3], [1, 1, 1], [2, 2, 2]])\n",
        "r = np.linalg.matrix_rank(a)"
      ],
      "execution_count": null,
      "outputs": []
    },
    {
      "cell_type": "code",
      "metadata": {
        "colab": {
          "base_uri": "https://localhost:8080/"
        },
        "id": "AK_CnYa2ftij",
        "outputId": "043b9b68-fc5f-4249-eb63-a750da835318"
      },
      "source": [
        "print (\"Матрица:\\n\", a)\n",
        "print (\"Ранг матрицы:\", r)"
      ],
      "execution_count": null,
      "outputs": [
        {
          "output_type": "stream",
          "name": "stdout",
          "text": [
            "Матрица:\n",
            " [[1 2 3]\n",
            " [1 1 1]\n",
            " [2 2 2]]\n",
            "Ранг матрицы: 2\n"
          ]
        }
      ]
    },
    {
      "cell_type": "markdown",
      "metadata": {
        "id": "otz4LVwvftij"
      },
      "source": [
        "С помощью вычисления ранга матрицы можно проверять линейную независимость системы векторов.\n",
        "\n",
        "Допустим, у нас есть несколько векторов. Составим из них матрицу, где наши векторы будут являться строками. Понятно, что векторы линейно независимы тогда и только тогда, когда ранг полученной матрицы совпадает с числом векторов. Приведем пример:"
      ]
    },
    {
      "cell_type": "code",
      "metadata": {
        "id": "6QHI3r1pftij"
      },
      "source": [
        "a = np.array([1, 2, 3])\n",
        "b = np.array([1, 1, 1])\n",
        "c = np.array([2, 3, 5])\n",
        "m = np.array([a, b, c])"
      ],
      "execution_count": null,
      "outputs": []
    },
    {
      "cell_type": "code",
      "metadata": {
        "colab": {
          "base_uri": "https://localhost:8080/"
        },
        "id": "Rq7Gohmxftij",
        "outputId": "d902e8c4-4fa1-4a11-b3ff-f92d14acb76c"
      },
      "source": [
        "print (np.linalg.matrix_rank(m) == m.shape[0])"
      ],
      "execution_count": null,
      "outputs": [
        {
          "output_type": "stream",
          "name": "stdout",
          "text": [
            "True\n"
          ]
        }
      ]
    },
    {
      "cell_type": "markdown",
      "metadata": {
        "id": "NYFaGv4aftij"
      },
      "source": [
        "## 11. Системы линейных уравнений"
      ]
    },
    {
      "cell_type": "markdown",
      "metadata": {
        "id": "q7MGFT9Iftij"
      },
      "source": [
        "__Напоминание теории.__ __Системой линейных алгебраических уравнений__ называется система вида $Ax = b$, где $A \\in \\mathbb{R}^{n \\times m}, x \\in \\mathbb{R}^{m \\times 1}, b \\in \\mathbb{R}^{n \\times 1}$. В случае квадратной невырожденной матрицы $A$ решение системы единственно.\n",
        "\n",
        "В `NumPy` решение такой системы можно найти с помощью функции __`numpy.linalg.solve(a, b)`__, где первый аргумент — матрица $A$, второй — столбец $b$."
      ]
    },
    {
      "cell_type": "code",
      "metadata": {
        "id": "XmNkdFedftij"
      },
      "source": [
        "a = np.array([[3, 1], [1, 2]])\n",
        "b = np.array([9, 8])\n",
        "x = np.linalg.solve(a, b)"
      ],
      "execution_count": null,
      "outputs": []
    },
    {
      "cell_type": "code",
      "metadata": {
        "colab": {
          "base_uri": "https://localhost:8080/"
        },
        "id": "ej51jrrHftij",
        "outputId": "c65e6069-b2cb-42fa-e631-a9d6e95349fe"
      },
      "source": [
        "print (\"Матрица A:\\n\", a)\n",
        "print (\"Вектор b:\\n\", b)\n",
        "print (\"Решение системы:\\n\", x)"
      ],
      "execution_count": null,
      "outputs": [
        {
          "output_type": "stream",
          "name": "stdout",
          "text": [
            "Матрица A:\n",
            " [[3 1]\n",
            " [1 2]]\n",
            "Вектор b:\n",
            " [9 8]\n",
            "Решение системы:\n",
            " [2. 3.]\n"
          ]
        }
      ]
    },
    {
      "cell_type": "markdown",
      "metadata": {
        "id": "aajw-0UPftik"
      },
      "source": [
        "Убедимся, что вектор __x__ действительно является решением системы:"
      ]
    },
    {
      "cell_type": "code",
      "metadata": {
        "colab": {
          "base_uri": "https://localhost:8080/"
        },
        "id": "FbR_dA8Vftik",
        "outputId": "480a58cb-965a-4aef-93dc-820b518d6baa"
      },
      "source": [
        "print (a.dot(x))"
      ],
      "execution_count": null,
      "outputs": [
        {
          "output_type": "stream",
          "name": "stdout",
          "text": [
            "[9. 8.]\n"
          ]
        }
      ]
    },
    {
      "cell_type": "markdown",
      "metadata": {
        "id": "_QxToB7cftik"
      },
      "source": [
        "Бывают случаи, когда решение системы не существует. Но хотелось бы все равно \"решить\" такую систему. Логичным кажется искать такой вектор $x$, который минимизирует выражение $\\left\\Vert Ax - b\\right\\Vert^{2}$ — так мы приблизим выражение $Ax$ к $b$.\n",
        "\n",
        "В `NumPy` такое псевдорешение можно искать с помощью функции __`numpy.linalg.lstsq(a, b, ...)`__, где первые два аргумента такие же, как и для функции __`numpy.linalg.solve()`__. \n",
        "Помимо решения функция возвращает еще три значения, которые нам сейчас не понадобятся."
      ]
    },
    {
      "cell_type": "code",
      "metadata": {
        "id": "WPfzFTS1ftik"
      },
      "source": [
        "a = np.array([[0, 1], [1, 1], [2, 1], [3, 1]])\n",
        "b = np.array([-1, 0.2, 0.9, 2.1])\n",
        "x, res, r, s = np.linalg.lstsq(a, b, rcond=None)"
      ],
      "execution_count": null,
      "outputs": []
    },
    {
      "cell_type": "code",
      "metadata": {
        "colab": {
          "base_uri": "https://localhost:8080/"
        },
        "id": "SKOygEkrftik",
        "outputId": "e0814c2b-f94c-44c9-feb1-285f6096f15d"
      },
      "source": [
        "print (\"Матрица A:\\n\", a)\n",
        "print (\"Вектор b:\\n\", b)\n",
        "print (\"Псевдорешение системы:\\n\", x)"
      ],
      "execution_count": null,
      "outputs": [
        {
          "output_type": "stream",
          "name": "stdout",
          "text": [
            "Матрица A:\n",
            " [[0 1]\n",
            " [1 1]\n",
            " [2 1]\n",
            " [3 1]]\n",
            "Вектор b:\n",
            " [-1.   0.2  0.9  2.1]\n",
            "Псевдорешение системы:\n",
            " [ 1.   -0.95]\n"
          ]
        }
      ]
    },
    {
      "cell_type": "markdown",
      "metadata": {
        "id": "4Gj_SYlkftik"
      },
      "source": [
        "## 12. Обращение матриц"
      ]
    },
    {
      "cell_type": "markdown",
      "metadata": {
        "id": "3iMhkQqcftik"
      },
      "source": [
        "__Напоминание теории.__  Для квадратных невырожденных матриц определено понятие __обратной__ матрицы. \n",
        "\n",
        "Пусть $A$ — квадратная невырожденная матрица. Матрица $A^{-1}$ называется __обратной матрицей__ к $A$, если \n",
        "\n",
        "$$AA^{-1} = A^{-1}A = I,\n",
        "$$ \n",
        "\n",
        "где $I$ — единичная матрица.\n",
        "\n",
        "В `NumPy` обратные матрицы вычисляются с помощью функции __`numpy.linalg.inv(a)`__, где __`a`__ — исходная матрица."
      ]
    },
    {
      "cell_type": "code",
      "metadata": {
        "id": "0cEv6FtGftil"
      },
      "source": [
        "a = np.array([[1, 2, 1], [1, 1, 4], [2, 3, 6]], dtype=np.float32)\n",
        "b = np.linalg.inv(a)"
      ],
      "execution_count": null,
      "outputs": []
    },
    {
      "cell_type": "code",
      "metadata": {
        "colab": {
          "base_uri": "https://localhost:8080/"
        },
        "id": "_FSak0BZftil",
        "outputId": "3b431ba9-8e3b-4092-a0f4-8b9f12686ecf"
      },
      "source": [
        "print (\"Матрица A:\\n\", a)\n",
        "print (\"Обратная матрица к A:\\n\", b)\n",
        "print (\"Произведение A на обратную должна быть единичной:\\n\", a.dot(b))"
      ],
      "execution_count": null,
      "outputs": [
        {
          "output_type": "stream",
          "name": "stdout",
          "text": [
            "Матрица A:\n",
            " [[1. 2. 1.]\n",
            " [1. 1. 4.]\n",
            " [2. 3. 6.]]\n",
            "Обратная матрица к A:\n",
            " [[ 6.  9. -7.]\n",
            " [-2. -4.  3.]\n",
            " [-1. -1.  1.]]\n",
            "Произведение A на обратную должна быть единичной:\n",
            " [[1. 0. 0.]\n",
            " [0. 1. 0.]\n",
            " [0. 0. 1.]]\n"
          ]
        }
      ]
    },
    {
      "cell_type": "markdown",
      "metadata": {
        "id": "8LVlrzACftil"
      },
      "source": [
        "## 13. Собственные числа и собственные вектора матрицы"
      ]
    },
    {
      "cell_type": "markdown",
      "metadata": {
        "id": "v-FTfqTHftil"
      },
      "source": [
        "__Напоминание теории.__ Для квадратных матриц определены понятия __собственного вектора__ и __собственного числа__.\n",
        "\n",
        "Пусть $A$ — квадратная матрица и $A \\in \\mathbb{R}^{n \\times n}$. __Собственным вектором__ матрицы $A$ называется такой ненулевой вектор $x \\in \\mathbb{R}^{n}$, что для некоторого $\\lambda \\in \\mathbb{R}$ выполняется равенство $Ax = \\lambda x$. При этом $\\lambda$ называется __собственным числом__ матрицы $A$. Собственные числа и собственные векторы матрицы играют важную роль в теории линейной алгебры и ее практических приложениях.\n",
        "\n",
        "В `NumPy` собственные числа и собственные векторы матрицы вычисляются с помощью функции __`numpy.linalg.eig(a)`__, где __`a`__ — исходная матрица. В качестве результата эта функция выдает одномерный массив __`w`__ собственных чисел и двумерный массив __`v`__, в котором по столбцам записаны собственные вектора, так что вектор __`v[:, i]`__ соотвествует собственному числу __`w[i]`__."
      ]
    },
    {
      "cell_type": "code",
      "metadata": {
        "id": "1cPsCxrWftil"
      },
      "source": [
        "a = np.array([[-1, -6], [2, 6]])\n",
        "w, v = np.linalg.eig(a)"
      ],
      "execution_count": null,
      "outputs": []
    },
    {
      "cell_type": "code",
      "metadata": {
        "colab": {
          "base_uri": "https://localhost:8080/"
        },
        "id": "oFaQqSxnftil",
        "outputId": "d386329d-1d16-4f60-d7e2-30fed980f76b"
      },
      "source": [
        "print (\"Матрица A:\\n\", a)\n",
        "print (\"Собственные числа:\\n\", w)\n",
        "print (\"Собственные векторы:\\n\", v)"
      ],
      "execution_count": null,
      "outputs": [
        {
          "output_type": "stream",
          "name": "stdout",
          "text": [
            "Матрица A:\n",
            " [[-1 -6]\n",
            " [ 2  6]]\n",
            "Собственные числа:\n",
            " [2. 3.]\n",
            "Собственные векторы:\n",
            " [[-0.89442719  0.83205029]\n",
            " [ 0.4472136  -0.5547002 ]]\n"
          ]
        }
      ]
    },
    {
      "cell_type": "markdown",
      "metadata": {
        "id": "l-yF5Ilaftil"
      },
      "source": [
        "__Обратите внимание:__ у вещественной матрицы собственные значения или собственные векторы могут быть комплексными."
      ]
    },
    {
      "cell_type": "markdown",
      "metadata": {
        "id": "j1ZV7Iwuftim"
      },
      "source": [
        "## 14. Расстояния между векторами"
      ]
    },
    {
      "cell_type": "markdown",
      "metadata": {
        "id": "V91n1Agkftim"
      },
      "source": [
        "Вспомним некоторые нормы, которые можно ввести в пространстве $\\mathbb{R}^{n}$, и рассмотрим, с помощью каких библиотек и функций их можно вычислять в `NumPy`."
      ]
    },
    {
      "cell_type": "markdown",
      "metadata": {
        "id": "1tO7zEYJftim"
      },
      "source": [
        "### p-норма"
      ]
    },
    {
      "cell_type": "markdown",
      "metadata": {
        "id": "XuB_6kNCftim"
      },
      "source": [
        "p-норма (норма Гёльдера) для вектора $x = (x_{1}, \\dots, x_{n}) \\in \\mathbb{R}^{n}$ вычисляется по формуле:\n",
        "\n",
        "$$\n",
        "\\left\\Vert x \\right\\Vert_{p} = \\left( \\sum_{i=1}^n \\left| x_{i} \\right|^{p} \\right)^{1 / p},~p \\geq 1.\n",
        "$$"
      ]
    },
    {
      "cell_type": "markdown",
      "metadata": {
        "id": "w4ICQDvOftim"
      },
      "source": [
        "В частных случаях при:\n",
        "* $p = 1$ получаем $\\ell_{1}$ норму\n",
        "* $p = 2$ получаем $\\ell_{2}$ норму"
      ]
    },
    {
      "cell_type": "markdown",
      "metadata": {
        "id": "rRDW7vUOftim"
      },
      "source": [
        "Далее нам понабится модуль `numpy.linalg`, реализующий некоторые приложения линейной алгебры. Для вычисления различных норм мы используем функцию __`numpy.linalg.norm(x, ord=None, ...)`__, где __`x`__ — исходный вектор, __`ord`__ — параметр, определяющий норму (мы рассмотрим два варианта его значений — 1 и 2). Импортируем эту функцию:"
      ]
    },
    {
      "cell_type": "code",
      "metadata": {
        "id": "mlX2SU7zftim"
      },
      "source": [
        "from numpy.linalg import norm"
      ],
      "execution_count": null,
      "outputs": []
    },
    {
      "cell_type": "markdown",
      "metadata": {
        "id": "B-mWjhT9ftim"
      },
      "source": [
        "### $\\ell_{1}$ норма"
      ]
    },
    {
      "cell_type": "markdown",
      "metadata": {
        "id": "U82LPVFsftim"
      },
      "source": [
        "$\\ell_{1}$ норма \n",
        "(также известная как [манхэттенское расстояние](https://ru.wikipedia.org/wiki/%D0%A0%D0%B0%D1%81%D1%81%D1%82%D0%BE%D1%8F%D0%BD%D0%B8%D0%B5_%D0%B3%D0%BE%D1%80%D0%BE%D0%B4%D1%81%D0%BA%D0%B8%D1%85_%D0%BA%D0%B2%D0%B0%D1%80%D1%82%D0%B0%D0%BB%D0%BE%D0%B2))\n",
        "для вектора $x = (x_{1}, \\dots, x_{n}) \\in \\mathbb{R}^{n}$ вычисляется по формуле:\n",
        "\n",
        "$$\n",
        " \\left\\Vert x \\right\\Vert_{1} = \\sum_{i=1}^n \\left| x_{i} \\right|.\n",
        "$$"
      ]
    },
    {
      "cell_type": "markdown",
      "metadata": {
        "id": "wZfPue9Xftin"
      },
      "source": [
        "Ей в функции __`numpy.linalg.norm(x, ord=None, ...)`__ соответствует параметр __`ord=1`__."
      ]
    },
    {
      "cell_type": "code",
      "metadata": {
        "colab": {
          "base_uri": "https://localhost:8080/"
        },
        "id": "2lGqCRznftin",
        "outputId": "61dec826-4c34-4148-a70e-490a63fe9bf4"
      },
      "source": [
        "a = np.array([1, 2, -3])\n",
        "print('Вектор a:', a)"
      ],
      "execution_count": null,
      "outputs": [
        {
          "output_type": "stream",
          "name": "stdout",
          "text": [
            "Вектор a: [ 1  2 -3]\n"
          ]
        }
      ]
    },
    {
      "cell_type": "code",
      "metadata": {
        "colab": {
          "base_uri": "https://localhost:8080/"
        },
        "id": "pWcpVwfPftin",
        "outputId": "2456bc68-b725-4906-cfb2-4db9137fb9d6"
      },
      "source": [
        "print('L1 норма вектора a:\\n', norm(a, ord=1))"
      ],
      "execution_count": null,
      "outputs": [
        {
          "output_type": "stream",
          "name": "stdout",
          "text": [
            "L1 норма вектора a:\n",
            " 6.0\n"
          ]
        }
      ]
    },
    {
      "cell_type": "markdown",
      "metadata": {
        "id": "v0wpM38rftin"
      },
      "source": [
        "### $\\ell_{2}$ норма"
      ]
    },
    {
      "cell_type": "markdown",
      "metadata": {
        "id": "JcJzRqFCftin"
      },
      "source": [
        "$\\ell_{2}$ норма (также известная как евклидова норма)\n",
        "для вектора $x = (x_{1}, \\dots, x_{n}) \\in \\mathbb{R}^{n}$ вычисляется по формуле:\n",
        "\n",
        "$$\n",
        " \\left\\Vert x \\right\\Vert_{2} = \\sqrt{\\sum_{i=1}^n \\left( x_{i} \\right)^2}.\n",
        "$$"
      ]
    },
    {
      "cell_type": "markdown",
      "metadata": {
        "id": "_Mbyumgnftin"
      },
      "source": [
        "Ей в функции __`numpy.linalg.norm(x, ord=None, ...)`__ соответствует параметр __`ord=2`__."
      ]
    },
    {
      "cell_type": "code",
      "metadata": {
        "colab": {
          "base_uri": "https://localhost:8080/"
        },
        "id": "E-XBtpZFftio",
        "outputId": "b879a0c4-cce9-4b1c-f5c0-809f6108f456"
      },
      "source": [
        "print ('L2 норма вектора a:\\n', norm(a, ord=2))"
      ],
      "execution_count": null,
      "outputs": [
        {
          "output_type": "stream",
          "name": "stdout",
          "text": [
            "L2 норма вектора a:\n",
            " 3.7416573867739413\n"
          ]
        }
      ]
    },
    {
      "cell_type": "markdown",
      "metadata": {
        "id": "Bt4mW8Koftio"
      },
      "source": [
        "Более подробно о том, какие еще нормы (в том числе матричные) можно вычислить, см. [документацию](http://docs.scipy.org/doc/numpy-1.10.0/reference/generated/numpy.linalg.norm.html). "
      ]
    },
    {
      "cell_type": "markdown",
      "metadata": {
        "id": "YAOHLP3aftio"
      },
      "source": [
        "## 15. Расстояния между векторами"
      ]
    },
    {
      "cell_type": "markdown",
      "metadata": {
        "id": "m2Y5vnTuftio"
      },
      "source": [
        "Для двух векторов $x = (x_{1}, \\dots, x_{n}) \\in \\mathbb{R}^{n}$ и $y = (y_{1}, \\dots, y_{n}) \\in \\mathbb{R}^{n}$ $\\ell_{1}$ и $\\ell_{2}$ раccтояния вычисляются по следующим формулам соответственно:\n",
        "\n",
        "$$\n",
        " \\rho_{1}\\left( x, y \\right) = \\left\\Vert x - y \\right\\Vert_{1} = \\sum_{i=1}^n \\left| x_{i} - y_{i} \\right|\n",
        "$$\n",
        "\n",
        "$$\n",
        " \\rho_{2}\\left( x, y \\right) = \\left\\Vert x - y \\right\\Vert_{2} = \n",
        " \\sqrt{\\sum_{i=1}^n \\left( x_{i} - y_{i} \\right)^2}.\n",
        "$$"
      ]
    },
    {
      "cell_type": "code",
      "metadata": {
        "colab": {
          "base_uri": "https://localhost:8080/"
        },
        "id": "UPQxo2oWftio",
        "outputId": "5d244d42-1632-432d-b708-8a2d3114f8e0"
      },
      "source": [
        "a = np.array([1, 2, -3])\n",
        "b = np.array([-4, 3, 8])\n",
        "print ('Вектор a:', a)\n",
        "print ('Вектор b:', b)"
      ],
      "execution_count": null,
      "outputs": [
        {
          "output_type": "stream",
          "name": "stdout",
          "text": [
            "Вектор a: [ 1  2 -3]\n",
            "Вектор b: [-4  3  8]\n"
          ]
        }
      ]
    },
    {
      "cell_type": "code",
      "metadata": {
        "colab": {
          "base_uri": "https://localhost:8080/"
        },
        "id": "8muKUPUUftio",
        "outputId": "fd3d190b-fb39-4409-9093-23d368ab118d"
      },
      "source": [
        "print ('L1 расстояние между векторами a и b:\\n', norm(a - b, ord=1))\n",
        "print ('L2 расстояние между векторами a и b:\\n', norm(a - b, ord=2))"
      ],
      "execution_count": null,
      "outputs": [
        {
          "output_type": "stream",
          "name": "stdout",
          "text": [
            "L1 расстояние между векторами a и b:\n",
            " 17.0\n",
            "L2 расстояние между векторами a и b:\n",
            " 12.12435565298214\n"
          ]
        }
      ]
    },
    {
      "cell_type": "markdown",
      "metadata": {
        "id": "eNGQi26oftio"
      },
      "source": [
        "## 16. Скалярное произведение и угол между векторами"
      ]
    },
    {
      "cell_type": "code",
      "metadata": {
        "colab": {
          "base_uri": "https://localhost:8080/"
        },
        "id": "9k0Zogl4ftio",
        "outputId": "b3371cca-49a1-4e2b-89ed-21e05fe9d971"
      },
      "source": [
        "a = np.array([0, 5, -1])\n",
        "b = np.array([-4, 9, 3])\n",
        "print ('Вектор a:', a)\n",
        "print ('Вектор b:', b)"
      ],
      "execution_count": null,
      "outputs": [
        {
          "output_type": "stream",
          "name": "stdout",
          "text": [
            "Вектор a: [ 0  5 -1]\n",
            "Вектор b: [-4  9  3]\n"
          ]
        }
      ]
    },
    {
      "cell_type": "markdown",
      "metadata": {
        "id": "q1GTWMcXftip"
      },
      "source": [
        "Скалярное произведение в пространстве $\\mathbb{R}^{n}$ для двух векторов $x = (x_{1}, \\dots, x_{n})$ и $y = (y_{1}, \\dots, y_{n})$ определяется как:\n",
        "\n",
        "$$\n",
        "\\langle x, y \\rangle = \\sum_{i=1}^n x_{i} y_{i}.\n",
        "$$"
      ]
    },
    {
      "cell_type": "markdown",
      "metadata": {
        "id": "ton2ueCqftip"
      },
      "source": [
        "Длиной вектора $x = (x_{1}, \\dots, x_{n}) \\in \\mathbb{R}^{n}$ называется квадратный корень из скалярного произведения, то есть длина равна евклидовой норме вектора:\n",
        "\n",
        "$$\n",
        "\\left| x \\right| = \\sqrt{\\langle x, x \\rangle} = \\sqrt{\\sum_{i=1}^n x_{i}^2} =  \\left\\Vert x \\right\\Vert_{2}.\n",
        "$$"
      ]
    },
    {
      "cell_type": "markdown",
      "metadata": {
        "id": "6xMy8B25ftip"
      },
      "source": [
        "Теперь, когда мы знаем расстояние между двумя ненулевыми векторами и их длины, мы можем вычислить угол между ними через скалярное произведение:\n",
        "\n",
        "$$\n",
        "\\langle x, y \\rangle = \\left| x \\right| | y | \\cos(\\alpha)\n",
        "\\implies \\cos(\\alpha) = \\frac{\\langle x, y \\rangle}{\\left| x \\right| | y |},\n",
        "$$\n",
        "\n",
        "где $\\alpha \\in [0, \\pi]$ — угол между векторами $x$ и $y$."
      ]
    },
    {
      "cell_type": "code",
      "metadata": {
        "colab": {
          "base_uri": "https://localhost:8080/"
        },
        "id": "dz4hQ5kZftip",
        "outputId": "b273e419-0a32-47df-b2ab-5768a7cc33d8"
      },
      "source": [
        "cos_angle = np.dot(a, b) / norm(a) / norm(b)\n",
        "print ('Косинус угла между a и b:', cos_angle)\n",
        "print ('Сам угол:', np.arccos(cos_angle))"
      ],
      "execution_count": null,
      "outputs": [
        {
          "output_type": "stream",
          "name": "stdout",
          "text": [
            "Косинус угла между a и b: 0.8000362836474323\n",
            "Сам угол: 0.6434406336093618\n"
          ]
        }
      ]
    },
    {
      "cell_type": "markdown",
      "metadata": {
        "id": "N4VVNE07ftip"
      },
      "source": [
        "## 17. Комплексные числа в питоне"
      ]
    },
    {
      "cell_type": "markdown",
      "metadata": {
        "id": "A33UmqQjftip"
      },
      "source": [
        "__Напоминание теории.__ __Комплексными числами__ называются числа вида $x + iy$, где $x$ и $y$ — вещественные числа, а $i$ — мнимая единица (величина, для которой выполняется равенство $i^{2} = -1$). Множество всех комплексных чисел обозначается буквой $\\mathbb{C}$ (подробнее про комплексные числа см. [википедию](https://ru.wikipedia.org/wiki/%D0%9A%D0%BE%D0%BC%D0%BF%D0%BB%D0%B5%D0%BA%D1%81%D0%BD%D0%BE%D0%B5_%D1%87%D0%B8%D1%81%D0%BB%D0%BE))."
      ]
    },
    {
      "cell_type": "markdown",
      "metadata": {
        "id": "1MdmxI5Oftip"
      },
      "source": [
        "В питоне комплескные числа можно задать следующим образом (__j__ обозначает мнимую единицу):"
      ]
    },
    {
      "cell_type": "code",
      "metadata": {
        "id": "wQ-GGKJUftip"
      },
      "source": [
        "a = 3 + 2j\n",
        "b = 1j"
      ],
      "execution_count": null,
      "outputs": []
    },
    {
      "cell_type": "code",
      "metadata": {
        "colab": {
          "base_uri": "https://localhost:8080/"
        },
        "id": "wYRFlZyPftiq",
        "outputId": "c8fbc6f8-a2bb-4d78-c2ca-a01f5613d593"
      },
      "source": [
        "print (\"Комплексное число a:\\n\", a)\n",
        "print (\"Комплексное число b:\\n\", b)"
      ],
      "execution_count": null,
      "outputs": [
        {
          "output_type": "stream",
          "name": "stdout",
          "text": [
            "Комплексное число a:\n",
            " (3+2j)\n",
            "Комплексное число b:\n",
            " 1j\n"
          ]
        }
      ]
    },
    {
      "cell_type": "markdown",
      "metadata": {
        "id": "Kx7gNBVbftiq"
      },
      "source": [
        "С комплексными числами в питоне можно производить базовые арифметические операции так же, как и с вещественными числами:"
      ]
    },
    {
      "cell_type": "code",
      "metadata": {
        "id": "5pog3uZbftiq"
      },
      "source": [
        "c = a * a\n",
        "d = a / (4 - 5j)"
      ],
      "execution_count": null,
      "outputs": []
    },
    {
      "cell_type": "code",
      "metadata": {
        "colab": {
          "base_uri": "https://localhost:8080/"
        },
        "id": "d35HcG0Dftiq",
        "outputId": "2683359f-2b0b-497b-ecea-836fbcc2c840"
      },
      "source": [
        "print (\"Комплексное число c:\\n\", c)\n",
        "print (\"Комплексное число d:\\n\", d)"
      ],
      "execution_count": null,
      "outputs": [
        {
          "output_type": "stream",
          "name": "stdout",
          "text": [
            "Комплексное число c:\n",
            " (5+12j)\n",
            "Комплексное число d:\n",
            " (0.0487804878048781+0.5609756097560976j)\n"
          ]
        }
      ]
    },
    {
      "cell_type": "markdown",
      "metadata": {
        "id": "BS35c9vxftiq"
      },
      "source": [
        "# Задания: (Блок 2)\n",
        "### Задание 3:\n",
        "Рассмотрим сложную математическую функцию на отрезке [1, 15]:\n",
        "\n",
        "f(x) = sin(x / 5) * exp(x / 10) + 5 * exp(-x / 2)\n",
        "\n",
        "![func.png](func.png \"func.png\")"
      ]
    },
    {
      "cell_type": "markdown",
      "metadata": {
        "id": "1fv_dBczftiq"
      },
      "source": [
        "Она может описывать, например, зависимость оценок, которые выставляют определенному сорту вина эксперты, в зависимости от возраста этого вина. Мы хотим приблизить сложную зависимость с помощью функции из определенного семейства. В этом задании мы будем приближать указанную функцию с помощью многочленов."
      ]
    },
    {
      "cell_type": "markdown",
      "metadata": {
        "id": "AZ-D1fjTftiq"
      },
      "source": [
        "Как известно, многочлен степени $n$ (то есть $w_0$ + $w_1 x$ + $w_2 x^2$ + $\\ldots$ + $w_n x^n$) однозначно определяется любыми n + 1 различными точками, через которые он проходит. Это значит, что его коэффициенты $w_0$, ... $w_n$ можно определить из следующей системы линейных уравнений:"
      ]
    },
    {
      "cell_type": "markdown",
      "metadata": {
        "id": "csn5J04Aftiq"
      },
      "source": [
        "![eqs.png](eqs.png \"eqs.png\")"
      ]
    },
    {
      "cell_type": "markdown",
      "metadata": {
        "id": "DhXkBg8gftir"
      },
      "source": [
        "где через $x_1, ..., x_n, x_{n+1}$ обозначены точки, через которые проходит многочлен, а через $f(x_1), ..., f(x_n), f(x_{n+1})$ — значения, которые он должен принимать в этих точках."
      ]
    },
    {
      "cell_type": "markdown",
      "metadata": {
        "id": "8rbgHb8zftir"
      },
      "source": [
        "Воспользуемся описанным свойством, и будем находить приближение функции многочленом, решая систему линейных уравнений.\n",
        "\n",
        "1. Сформируйте систему линейных уравнений (то есть задайте матрицу коэффициентов A и свободный вектор b) для многочлена первой степени, который должен совпадать с функцией f в точках 1 и 15. Решите данную систему с помощью функции scipy.linalg.solve. Нарисуйте функцию f и полученный многочлен. Хорошо ли он приближает исходную функцию?\n",
        "2. Повторите те же шаги для многочлена второй степени, который совпадает с функцией f в точках 1, 8 и 15. Улучшилось ли качество аппроксимации?\n",
        "3. Повторите те же шаги для многочлена третьей степени, который совпадает с функцией f в точках 1, 4, 10 и 15. Хорошо ли он аппроксимирует функцию? Коэффициенты данного многочлена (четыре числа в следующем порядке: w_0, w_1, w_2, w_3) являются ответом на задачу. Округлять коэффициенты не обязательно, но при желании можете произвести округление до второго знака (т.е. до числа вида 0.42)"
      ]
    },
    {
      "cell_type": "code",
      "metadata": {
        "id": "-Hp4162fureJ",
        "colab": {
          "base_uri": "https://localhost:8080/",
          "height": 761
        },
        "outputId": "eff27295-ec63-41db-c5c2-33c900bdc288"
      },
      "source": [
        "from math import *\n",
        "\n",
        "\n",
        "def func(x):\n",
        "  return np.sin(x / 5) * np.exp(x / 10) + 5 * np.exp(-x / 2)\n",
        "\n",
        "def print_func(y):\n",
        "  x = np.linspace(0,16,100)\n",
        "  fig = plt.figure()\n",
        "  \n",
        "  y = y(x)\n",
        "  y2 = func(x)\n",
        "\n",
        "  plt.plot(x, y, 'r')\n",
        "  plt.plot(x, y2, 'g')\n",
        "  plt.show()\n",
        "\n",
        "\n",
        "k_array = np.array([[1, 1],\n",
        "                    [15, 1]])\n",
        "res = [func(1), func(15)]\n",
        "\n",
        "k, b = linalg.solve(k_array, res)\n",
        "print_func(lambda x: k * x + b)\n",
        "\n",
        "k_array = np.array([[1, 1, 1],\n",
        "                    [64, 8, 1],\n",
        "                    [225, 15, 1]])\n",
        "res = [func(1), func(8), func(15)]\n",
        "\n",
        "k1, k2, b = linalg.solve(k_array, res)\n",
        "print_func(lambda x: k1 * (x ** 2) + k2 * x + b)\n",
        "\n",
        "k_array = np.array([[1, 1, 1, 1],\n",
        "                    [4 ** 3, 4 ** 2, 4, 1],\n",
        "                    [10 ** 3, 10 ** 2, 10, 1],\n",
        "                    [15 ** 3, 15 ** 2, 15, 1]])\n",
        "res = [func(1), func(4), func(10), func(15)]\n",
        "\n",
        "k1, k2, k3, b = linalg.solve(k_array, res)\n",
        "print_func(lambda x: k1 * (x ** 3) + k2 * (x ** 2) + k3 * x + b)"
      ],
      "execution_count": 297,
      "outputs": [
        {
          "output_type": "display_data",
          "data": {
            "image/png": "[encoded data removed]",
            "text/plain": [
              "<Figure size 432x288 with 1 Axes>"
            ]
          },
          "metadata": {
            "needs_background": "light"
          }
        },
        {
          "output_type": "display_data",
          "data": {
            "image/png": "[encoded data removed]",
            "text/plain": [
              "<Figure size 432x288 with 1 Axes>"
            ]
          },
          "metadata": {
            "needs_background": "light"
          }
        },
        {
          "output_type": "display_data",
          "data": {
            "image/png": "[encoded data removed]",
            "text/plain": [
              "<Figure size 432x288 with 1 Axes>"
            ]
          },
          "metadata": {
            "needs_background": "light"
          }
        }
      ]
    }
  ]
}